{
  "nbformat": 4,
  "nbformat_minor": 0,
  "metadata": {
    "colab": {
      "provenance": [],
      "authorship_tag": "ABX9TyNFNFXHwDVbj1+b4sxEpW08"
    },
    "kernelspec": {
      "name": "python3",
      "display_name": "Python 3"
    },
    "language_info": {
      "name": "python"
    }
  },
  "cells": [
    {
      "cell_type": "markdown",
      "source": [
        "Weekly Exercise 1"
      ],
      "metadata": {
        "id": "lFFKQpHhW4LX"
      }
    },
    {
      "cell_type": "code",
      "source": [
        "!pip install wget"
      ],
      "metadata": {
        "colab": {
          "base_uri": "https://localhost:8080/"
        },
        "id": "3Lqn3VahHBGs",
        "outputId": "6d2ea0ae-5e52-456c-ea59-3a9d69e626fe",
        "collapsed": true
      },
      "execution_count": null,
      "outputs": [
        {
          "output_type": "stream",
          "name": "stdout",
          "text": [
            "Collecting wget\n",
            "  Downloading wget-3.2.zip (10 kB)\n",
            "  Preparing metadata (setup.py) ... \u001b[?25l\u001b[?25hdone\n",
            "Building wheels for collected packages: wget\n",
            "  Building wheel for wget (setup.py) ... \u001b[?25l\u001b[?25hdone\n",
            "  Created wheel for wget: filename=wget-3.2-py3-none-any.whl size=9656 sha256=ab2e1023bd5ff9cb3a3f5b10d3afba61ee478584f5127099c19cbdc6ca77ddd2\n",
            "  Stored in directory: /root/.cache/pip/wheels/8b/f1/7f/5c94f0a7a505ca1c81cd1d9208ae2064675d97582078e6c769\n",
            "Successfully built wget\n",
            "Installing collected packages: wget\n",
            "Successfully installed wget-3.2\n"
          ]
        }
      ]
    },
    {
      "cell_type": "code",
      "source": [
        "# Download Example file\n",
        "!mkdir -p /resources/data\n",
        "!wget -O /resources/data/Example1.txt https://s3-api.us-geo.objectstorage.softlayer.net/cf-courses-data/CognitiveClass/PY0101EN/labs/example1.txt"
      ],
      "metadata": {
        "colab": {
          "base_uri": "https://localhost:8080/"
        },
        "collapsed": true,
        "id": "KowoTGsSFJUZ",
        "outputId": "b7585448-b43e-43ca-9ece-3766d8f9575d"
      },
      "execution_count": 12,
      "outputs": [
        {
          "output_type": "stream",
          "name": "stdout",
          "text": [
            "--2024-09-09 22:54:10--  https://s3-api.us-geo.objectstorage.softlayer.net/cf-courses-data/CognitiveClass/PY0101EN/labs/example1.txt\n",
            "Resolving s3-api.us-geo.objectstorage.softlayer.net (s3-api.us-geo.objectstorage.softlayer.net)... 67.228.254.196\n",
            "Connecting to s3-api.us-geo.objectstorage.softlayer.net (s3-api.us-geo.objectstorage.softlayer.net)|67.228.254.196|:443... connected.\n",
            "HTTP request sent, awaiting response... 200 OK\n",
            "Length: 45 [text/plain]\n",
            "Saving to: ‘/resources/data/Example1.txt’\n",
            "\n",
            "/resources/data/Exa 100%[===================>]      45  --.-KB/s    in 0s      \n",
            "\n",
            "2024-09-09 22:54:11 (17.9 MB/s) - ‘/resources/data/Example1.txt’ saved [45/45]\n",
            "\n"
          ]
        }
      ]
    },
    {
      "cell_type": "code",
      "source": [
        "with open('/resources/data/Biodata.txt', 'w') as writefile:\n",
        "    writefile.write(\"Nama: Muhamad Ridwansah\\n\")\n",
        "    writefile.write(\"Program Studi: Teknologi Informasi\\n\")\n",
        "    writefile.write(\"NPM: 2440506079\\n\")\n",
        "    writefile.write(\"Alamat: Jln. Tidar sari RT 02 RW 10\\n\")\n",
        "    writefile.write(\"Hobi: Bermain Game dan Menonton film\\n\")\n",
        "    writefile.write(\"Email: muhamadridwang6@gmail.com\")"
      ],
      "metadata": {
        "id": "kYF9-HvhYxC0"
      },
      "execution_count": null,
      "outputs": []
    },
    {
      "cell_type": "code",
      "source": [
        "with open('/resources/data/Biodata.txt', \"r\") as file1:\n",
        "    c = file1.readlines()\n",
        "\n",
        "print(c[0])\n",
        "print(c[1])\n",
        "print(c[5])"
      ],
      "metadata": {
        "colab": {
          "base_uri": "https://localhost:8080/"
        },
        "id": "rXXRgmfsMAbr",
        "outputId": "468492f3-b478-4557-ec7f-af327070ff51"
      },
      "execution_count": null,
      "outputs": [
        {
          "output_type": "stream",
          "name": "stdout",
          "text": [
            "Nama: Muhamad Ridwansah\n",
            "\n",
            "Program Studi: Teknologi Informasi\n",
            "\n",
            "Email: muhamadridwang6@gmail.com\n"
          ]
        }
      ]
    },
    {
      "cell_type": "code",
      "source": [
        "with open('/resources/data/Biodata2.txt', 'w') as wan:\n",
        "    wan.write(c[0])\n",
        "    wan.write(c[2])\n",
        "    wan.write(c[1])\n",
        "    wan.write(c[3])"
      ],
      "metadata": {
        "id": "LAL2OtWbbK-V"
      },
      "execution_count": null,
      "outputs": []
    },
    {
      "cell_type": "markdown",
      "source": [
        "Weekly Exercise 2"
      ],
      "metadata": {
        "id": "aBukJjYkSlPq"
      }
    },
    {
      "cell_type": "code",
      "source": [
        "print (\"Selamat datang di Toko Maju Jaya\")\n",
        "print(\"Senin, 4 September 2023       13.05\")\n",
        "print(\" \")\n",
        "print(\"DAFTAR BELANJA:\")\n",
        "item1 = \"Sabun\"\n",
        "item2 = 'Shampo'\n",
        "item3 = \"Mie instant\"\n",
        "item4 = \"Detergen\"\n",
        "harga1 = 10000\n",
        "harga2 = 15000\n",
        "harga3 = 5000\n",
        "harga4 = 17500\n",
        "total = harga1 + harga2 + harga3 + harga4\n",
        "print(item1 + \" = Rp \" + str(harga1))\n",
        "print(item2 + \" = Rp \" + str(harga2))\n",
        "print(item3 + \" = Rp \" + str(harga3))\n",
        "print(item4 + \" = Rp \" + str(harga4))\n",
        "print(\" \")\n",
        "print(\"Total = Rp \" + str(total))\n",
        "\n",
        "with open('/resources/data/Kuitansi.txt', 'w') as writefile:\n",
        "    writefile.write(\"Selamat Datang di Toko Maju Jaya\\n\")\n",
        "    writefile.write(\" \\n\")\n",
        "    writefile.write(\"Kuitansi - 4 September 2023\\n\")\n",
        "    writefile.write(\" \\n\")\n",
        "    writefile.write(item1 + \" = Rp \" + str(harga1) + \"\\n\")\n",
        "    writefile.write(item2 + \" = Rp \" + str(harga2) + \"\\n\")\n",
        "    writefile.write(item3 + \" = Rp \" + str(harga3) + \"\\n\")\n",
        "    writefile.write(item4 + \" = Rp \" + str(harga4) + \"\\n\")\n",
        "    writefile.write(\" \\n\")\n",
        "    writefile.write(\"Total Belanja = \" + str(total))"
      ],
      "metadata": {
        "colab": {
          "base_uri": "https://localhost:8080/"
        },
        "id": "HhrrQttmWYlT",
        "outputId": "97173e3e-88bb-4f7e-8a05-55d0d8e88330"
      },
      "execution_count": 14,
      "outputs": [
        {
          "output_type": "stream",
          "name": "stdout",
          "text": [
            "Selamat datang di Toko Maju Jaya\n",
            "Senin, 4 September 2023       13.05\n",
            " \n",
            "DAFTAR BELANJA:\n",
            "Sabun = Rp 10000\n",
            "Shampo = Rp 15000\n",
            "Mie instant = Rp 5000\n",
            "Detergen = Rp 17500\n",
            " \n",
            "Total = Rp 47500\n"
          ]
        }
      ]
    }
  ]
}