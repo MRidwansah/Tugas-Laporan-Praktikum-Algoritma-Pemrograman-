{
  "nbformat": 4,
  "nbformat_minor": 0,
  "metadata": {
    "colab": {
      "provenance": [],
      "authorship_tag": "ABX9TyMtoe5xEVk7lZJYuJGxDL2n"
    },
    "kernelspec": {
      "name": "python3",
      "display_name": "Python 3"
    },
    "language_info": {
      "name": "python"
    }
  },
  "cells": [
    {
      "cell_type": "markdown",
      "source": [
        "Weekly Exercise 1"
      ],
      "metadata": {
        "id": "AIvq-SchF1tq"
      }
    },
    {
      "cell_type": "code",
      "source": [
        "tahun = int(input(\"Masukkan tahun anda: \"))\n",
        "\n",
        "if (tahun % 4) == 0:\n",
        "    if (tahun % 100) == 0:\n",
        "        if (tahun % 400) == 0:\n",
        "            print(\"Tahun Kabisat\")\n",
        "        else:\n",
        "            print(\"Bukan Tahun Kabisat\")\n",
        "    else:\n",
        "        print(\"Tahun Kabisat\")\n",
        "else:\n",
        "    print(\"Bukan Tahun Kabisat\")"
      ],
      "metadata": {
        "colab": {
          "base_uri": "https://localhost:8080/"
        },
        "id": "DGR21byIMC4a",
        "outputId": "58bf8a0a-247c-4fb5-9095-f79a7b0bfd0b"
      },
      "execution_count": null,
      "outputs": [
        {
          "output_type": "stream",
          "name": "stdout",
          "text": [
            "Masukkan tahun anda: 2025\n",
            "Bukan Tahun Kabisat\n"
          ]
        }
      ]
    },
    {
      "cell_type": "markdown",
      "source": [
        "Weekly Exercise 2"
      ],
      "metadata": {
        "id": "TMovN05zNLPS"
      }
    },
    {
      "cell_type": "code",
      "source": [
        "angka1 = int(input(\"Masukkan angka pertama: \"))\n",
        "angka2 = int(input(\"Masukkan angka kedua: \"))\n",
        "angka3 = int(input(\"Masukkan angka ketiga: \"))\n",
        "\n",
        "if angka1 >= angka2 and angka1 >= angka3:\n",
        "  print(\"Angka terbesar adalah:\", angka1)\n",
        "elif angka2 >= angka1 and angka2 >= angka3:\n",
        "  print(\"Angka terbesar adalah:\", angka2)\n",
        "else:\n",
        "  print(\"Angka terbesar adalah:\", angka3)\n"
      ],
      "metadata": {
        "colab": {
          "base_uri": "https://localhost:8080/"
        },
        "id": "kjIkASqmNY76",
        "outputId": "410fc0d7-1263-4286-9404-b3f2ab114cdd"
      },
      "execution_count": null,
      "outputs": [
        {
          "output_type": "stream",
          "name": "stdout",
          "text": [
            "Masukkan angka pertama: 5\n",
            "Masukkan angka kedua: 6\n",
            "Masukkan angka ketiga: 7\n",
            "Angka terbesar adalah: 7\n"
          ]
        }
      ]
    },
    {
      "cell_type": "markdown",
      "source": [
        "Weekly Exercise 3"
      ],
      "metadata": {
        "id": "ITHLa45WO46i"
      }
    },
    {
      "cell_type": "code",
      "source": [
        "konsumen = input(\"Jenis konsumen (member/non member):\")\n",
        "total_belanja = float(input(\"Masukkan total belanja : \"))\n",
        "\n",
        "diskon = 0\n",
        "if total_belanja >= 100000:\n",
        "  if total_belanja >= 200000:\n",
        "    diskon = 0.04\n",
        "  else:\n",
        "    diskon = 0.03\n",
        "\n",
        "if konsumen == \"member\":\n",
        "  diskon += 0.02\n",
        "\n",
        "jumlah_pembayaran = total_belanja * (1 - diskon)\n",
        "\n",
        "print(\"Jumlah yang harus dibayarkan : Rp\", jumlah_pembayaran)"
      ],
      "metadata": {
        "colab": {
          "base_uri": "https://localhost:8080/"
        },
        "id": "YNfD2Vdlqr2U",
        "outputId": "af4c4c59-64a8-4c0d-928c-f034b5f78ad4"
      },
      "execution_count": null,
      "outputs": [
        {
          "output_type": "stream",
          "name": "stdout",
          "text": [
            "Jenis konsumen (member/non member):member\n",
            "Masukkan total belanja : 120000\n",
            "Jumlah yang harus dibayarkan : Rp 114000.0\n"
          ]
        }
      ]
    },
    {
      "cell_type": "markdown",
      "source": [
        "Weekly Exercise 4"
      ],
      "metadata": {
        "id": "p9SPrRA8QZDK"
      }
    },
    {
      "cell_type": "code",
      "source": [
        "username = input(\"Masukkan username: \")\n",
        "email = input(\"Masukkan email: \")\n",
        "password = input(\"Masukkan password: \")\n",
        "\n",
        "if not username:\n",
        "  print(\"Username tidak boleh kosong\")\n",
        "elif \"@\" not in email:\n",
        "  print(\"Email tidak valid\")\n",
        "elif len(password) <= 8:\n",
        "  print(\"Password harus lebih dari 8 karakter\")\n",
        "else:\n",
        "  print(\"User berhasil dibuat!\")"
      ],
      "metadata": {
        "id": "VVTUSx3PSuQT",
        "colab": {
          "base_uri": "https://localhost:8080/"
        },
        "outputId": "58883f05-c6cc-4f86-9beb-6fc47ba2ad3b"
      },
      "execution_count": null,
      "outputs": [
        {
          "output_type": "stream",
          "name": "stdout",
          "text": [
            "Masukkan username: Muhamad Ridwansah\n",
            "Masukkan email: muhamad.ridwansah@students.untidar.ac.id\n",
            "Masukkan password: 123456789\n",
            "User berhasil dibuat!\n"
          ]
        }
      ]
    }
  ]
}