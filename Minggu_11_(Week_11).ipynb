{
  "nbformat": 4,
  "nbformat_minor": 0,
  "metadata": {
    "colab": {
      "provenance": [],
      "authorship_tag": "ABX9TyMu4pPThR9MHdX6v3fJNpi6"
    },
    "kernelspec": {
      "name": "python3",
      "display_name": "Python 3"
    },
    "language_info": {
      "name": "python"
    }
  },
  "cells": [
    {
      "cell_type": "markdown",
      "source": [
        "WEEKLY EXERCISE 1"
      ],
      "metadata": {
        "id": "BKX5hZMSgj5X"
      }
    },
    {
      "cell_type": "code",
      "source": [
        "import match\n",
        "\n",
        "jari_jari = float(input(\"masukan jari-jari :\"))\n",
        "luas_lingkaran = match.luas_lingkaran(jari_jari)\n",
        "print(f\"Luas lingkaran dengan jari-jari {jari_jari} adalah {luas_lingkaran:.2F}.\")\n",
        "\n",
        "sisi = float(input(\"masukan sisi : \"))\n",
        "luas_persegi = match.luas_persegi(sisi)\n",
        "print(f\"Luas persegi dengan sisi {sisi} adalah {luas_persegi:.2F}.\")"
      ],
      "metadata": {
        "colab": {
          "base_uri": "https://localhost:8080/"
        },
        "id": "E0mJonSTq--U",
        "outputId": "8bba6ea2-d8ed-432f-8c18-d62fa3f52431"
      },
      "execution_count": 1,
      "outputs": [
        {
          "output_type": "stream",
          "name": "stdout",
          "text": [
            "masukan jari-jari :18\n",
            "Luas lingkaran dengan jari-jari 18.0 adalah 1017.36.\n",
            "masukan sisi : 28\n",
            "Luas persegi dengan sisi 28.0 adalah 784.00.\n"
          ]
        }
      ]
    },
    {
      "cell_type": "markdown",
      "source": [
        "WEEKLY EXERCISE 2"
      ],
      "metadata": {
        "id": "7N7BIX2egnum"
      }
    },
    {
      "cell_type": "code",
      "source": [
        "import match\n",
        "\n",
        "jari_jari = float(input(\"masukan jari-jari :\"))\n",
        "luas_lingkaran = match.luas_lingkaran(jari_jari)\n",
        "print(f\"Luas lingkaran dengan jari-jari {jari_jari} adalah {luas_lingkaran:.2F}.\")\n",
        "\n",
        "sisi = float(input(\"masukan sisi : \"))\n",
        "luas_persegi = match.luas_persegi(sisi)\n",
        "print(f\"Luas persegi dengan sisi {sisi} adalah {luas_persegi:.2F}.\")\n",
        "#Setelah selesai membuat fungsi yang digunakan sebelumnya,\n",
        "#langkah kita selanjutnya adalah memanggil fungsi-fungsi\n",
        "#tersebut untuk menyelesaikan perhitungan matematika yang ada (5 fungsi)\n",
        "\n",
        "print(\"Mencari Akar Kuadrat\")\n",
        "n = float(input(\"Masukkan Angka: \"))\n",
        "kuadrat = math.sqrt(n)\n",
        "print(f\"Akar Kuadrat Dari {n} Adalah {kuadrat}\")\n",
        "print()\n",
        "\n",
        "print(\"Mencari Faktorial\")\n",
        "n = int(input(\"Masukkan Angka: \"))\n",
        "faktorial = math.factorial(n)\n",
        "print(f\"Faktorial Dari {n} Adalah {faktorial}\")\n",
        "print()\n",
        "\n",
        "print(\"Mencari Sin\")\n",
        "n = float(input(\"Masukkan Angka: \"))\n",
        "sin = math.sin(n)\n",
        "print(f\"Sin {n} Adalah {sin}\")\n",
        "print()\n",
        "\n",
        "print(\"Mencari Cos\")\n",
        "n = float(input(\"Masukkan Angka: \"))\n",
        "cos = math.cos(n)\n",
        "print(f\"Cos {n} Adalah {cos}\")\n",
        "print()\n",
        "\n",
        "print(\"Mencari Tan\")\n",
        "n = float(input(\"Masukkan Angka: \"))\n",
        "tan = math.tan(n)\n",
        "print(f\"Tan {n} Adalah {tan}\")"
      ],
      "metadata": {
        "colab": {
          "base_uri": "https://localhost:8080/"
        },
        "id": "WomqgRR8ydMK",
        "outputId": "18494627-d077-491f-fe24-ee7ca541aa48"
      },
      "execution_count": 6,
      "outputs": [
        {
          "output_type": "stream",
          "name": "stdout",
          "text": [
            "masukan jari-jari :18\n",
            "Luas lingkaran dengan jari-jari 18.0 adalah 1017.36.\n",
            "masukan sisi : 28\n",
            "Luas persegi dengan sisi 28.0 adalah 784.00.\n",
            "Mencari Akar Kuadrat\n",
            "Masukkan Angka: 11\n",
            "Akar Kuadrat Dari 11.0 Adalah 3.3166247903554\n",
            "\n",
            "Mencari Faktorial\n",
            "Masukkan Angka: 12\n",
            "Faktorial Dari 12 Adalah 479001600\n",
            "\n",
            "Mencari Sin\n",
            "Masukkan Angka: 13\n",
            "Sin 13.0 Adalah 0.4201670368266409\n",
            "\n",
            "Mencari Cos\n",
            "Masukkan Angka: 14\n",
            "Cos 14.0 Adalah 0.1367372182078336\n",
            "\n",
            "Mencari Tan\n",
            "Masukkan Angka: 15\n",
            "Tan 15.0 Adalah -0.8559934009085187\n"
          ]
        }
      ]
    }
  ]
}