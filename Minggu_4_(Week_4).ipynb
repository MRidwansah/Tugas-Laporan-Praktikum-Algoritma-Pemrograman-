{
  "nbformat": 4,
  "nbformat_minor": 0,
  "metadata": {
    "colab": {
      "provenance": [],
      "authorship_tag": "ABX9TyNj+cUWHY2w+X9CBfJhVVpo"
    },
    "kernelspec": {
      "name": "python3",
      "display_name": "Python 3"
    },
    "language_info": {
      "name": "python"
    }
  },
  "cells": [
    {
      "cell_type": "markdown",
      "source": [
        "Weekly Exercise 1"
      ],
      "metadata": {
        "id": "_e_2cn0uKoT-"
      }
    },
    {
      "cell_type": "code",
      "source": [
        "umur = int(input(\"Masukkan umur anda: \"))\n",
        "\n",
        "if umur >= 17:\n",
        "    print(\"Boleh membuat SIM\")\n",
        "else:\n",
        "    print(\"Tidak boleh membuat SIM\")\n"
      ],
      "metadata": {
        "id": "A6QYbjhbI8d-",
        "colab": {
          "base_uri": "https://localhost:8080/"
        },
        "outputId": "c88990ea-8d82-43dc-893e-ce7645b03cfa"
      },
      "execution_count": 6,
      "outputs": [
        {
          "output_type": "stream",
          "name": "stdout",
          "text": [
            "Masukkan umur anda: 16\n",
            "Tidak boleh membuat SIM\n"
          ]
        }
      ]
    },
    {
      "cell_type": "markdown",
      "source": [
        "Weekly Exercise 2"
      ],
      "metadata": {
        "id": "hWAQOAiAKt3m"
      }
    },
    {
      "cell_type": "code",
      "source": [
        "nilai = int(input(\"Masukkan nilai anda: \"))\n",
        "\n",
        "if nilai >= 90:\n",
        "    print(\"Grade A\")\n",
        "elif nilai >= 80:\n",
        "    print(\"Grade B+\")\n",
        "elif nilai >= 70:\n",
        "    print(\"Grade B\")\n",
        "elif nilai >= 60:\n",
        "    print(\"Grade C+\")\n",
        "elif nilai >= 50:\n",
        "    print(\"Grade C\")\n",
        "elif nilai >= 40:\n",
        "    print(\"Grade D\")\n",
        "else:\n",
        "    print(\"Grade E\")"
      ],
      "metadata": {
        "id": "p5zvYwmhKwa1",
        "colab": {
          "base_uri": "https://localhost:8080/"
        },
        "outputId": "285f2699-fc53-4398-8caf-98063072c605"
      },
      "execution_count": 11,
      "outputs": [
        {
          "output_type": "stream",
          "name": "stdout",
          "text": [
            "Masukkan nilai anda: 50\n",
            "Grade C\n"
          ]
        }
      ]
    },
    {
      "cell_type": "markdown",
      "source": [
        "Weekly Exercise 3"
      ],
      "metadata": {
        "id": "uB7qO4t7SKef"
      }
    },
    {
      "cell_type": "code",
      "source": [
        "nilai = float(input(\"Masukkan nilai\"))\n",
        "\n",
        "if nilai <= 100 and nilai  >= 80:\n",
        "    print(\"Grade A\")\n",
        "elif nilai <= 79.99 and nilai >= 77.50:\n",
        "    print(\"Grade A-\")\n",
        "elif nilai <= 77.49 and nilai >= 75:\n",
        "    print(\"Grade A/B\")\n",
        "elif nilai <= 74.99 and nilai >= 72.50:\n",
        "    print(\"Grade B+\")\n",
        "elif nilai <= 72.49 and nilai >= 70:\n",
        "    print(\"Grade B\")\n",
        "elif nilai <= 69.99 and nilai >= 67.50:\n",
        "    print(\"Grade B-\")\n",
        "elif nilai <= 67.49 and nilai >= 65:\n",
        "    print(\"Grade B/C\")\n",
        "elif nilai <= 64.99 and nilai >= 62.50:\n",
        "    print(\"Grade C+\")\n",
        "elif nilai <= 62.49 and nilai >= 60:\n",
        "    print(\"Grade C\")\n",
        "elif nilai <= 59.99 and nilai >= 55:\n",
        "    print(\"Grade C-\")\n",
        "elif nilai <= 54.99 and nilai >= 50:\n",
        "    print(\"Grade C/D\")\n",
        "elif nilai <= 49.99 and nilai >= 45:\n",
        "    print(\"Grade D+\")\n",
        "elif nilai <= 44.99 and nilai >= 40:\n",
        "    print(\"Grade D\")\n",
        "elif nilai<40:\n",
        "    print(\"Grade E\")\n",
        "else:\n",
        "    print(\"Nilai tidak valid\")\n"
      ],
      "metadata": {
        "id": "eZORLieWSNmN",
        "colab": {
          "base_uri": "https://localhost:8080/"
        },
        "outputId": "a113510f-03ac-4e55-80d8-21cea2a96e18"
      },
      "execution_count": 13,
      "outputs": [
        {
          "output_type": "stream",
          "name": "stdout",
          "text": [
            "Masukkan nilai 53.5\n",
            "Grade C/D\n"
          ]
        }
      ]
    }
  ]
}