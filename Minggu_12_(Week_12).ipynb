{
  "nbformat": 4,
  "nbformat_minor": 0,
  "metadata": {
    "colab": {
      "provenance": [],
      "authorship_tag": "ABX9TyPVUIDKY4jU1Y8aDXWMPVJj"
    },
    "kernelspec": {
      "name": "python3",
      "display_name": "Python 3"
    },
    "language_info": {
      "name": "python"
    }
  },
  "cells": [
    {
      "cell_type": "markdown",
      "source": [
        "WEEKLY EXERCISE 1"
      ],
      "metadata": {
        "id": "MYYjHDHHeQjI"
      }
    },
    {
      "cell_type": "code",
      "source": [
        "def luas_lingkaran():\n",
        "    Phi = 3.14\n",
        "    try:\n",
        "      jari_jari = int(input(\"Masukkan panjang jari-jari: \"))\n",
        "      print(\"Luas lingkaran = \", Phi * jari_jari * jari_jari)\n",
        "    except:\n",
        "      print(\"Hanya boleh masukkan angka\")\n",
        "\n",
        "def luas_persegi():\n",
        "    try:\n",
        "      sisi = int(input('Masukkan panjang sisi: '))\n",
        "      print(\"Luas persegi = \", sisi * sisi)\n",
        "    except:\n",
        "      print(\"Hanya boleh masukkan angka\")\n",
        "\n",
        "def luas_segitiga():\n",
        "    try:\n",
        "       alas = int(input('Masukkan panjang alas: '))\n",
        "       tinggi = int(input('Masukkan panjang tinggi: '))\n",
        "       print(\"Luas segitiga = \", (alas * tinggi) / 2)\n",
        "    except:\n",
        "      print(\"Hanya boleh masukkan angka\")\n",
        "\n",
        "\n",
        "def function():\n",
        "    while True:\n",
        "        print(\"\\nPilih luas yang ingin dicari:\")\n",
        "        print(\"1. Lingkaran\")\n",
        "        print(\"2. Persegi\")\n",
        "        print(\"3. Segitiga\")\n",
        "        print(\"4. Keluar\")\n",
        "\n",
        "        n = input(\"Masukkan pilihan (1/2/3/4): \")\n",
        "\n",
        "        if n == '1':\n",
        "            luas_lingkaran()\n",
        "        elif n == '2':\n",
        "            luas_persegi()\n",
        "        elif n == '3':\n",
        "            luas_segitiga()\n",
        "        elif n == '4':\n",
        "            print(\"Terimakasih telah menggunakan kalkulator\")\n",
        "            break\n",
        "        else:\n",
        "            print(\"Pilihan tidak valid. Silakan pilih angka yang sesuai.\")\n",
        "\n",
        "function()"
      ],
      "metadata": {
        "colab": {
          "base_uri": "https://localhost:8080/"
        },
        "id": "6jUQQQwkMo49",
        "outputId": "869cca3d-e125-489b-91d4-9b3ddc2178b6"
      },
      "execution_count": 2,
      "outputs": [
        {
          "output_type": "stream",
          "name": "stdout",
          "text": [
            "\n",
            "Pilih luas yang ingin dicari:\n",
            "1. Lingkaran\n",
            "2. Persegi\n",
            "3. Segitiga\n",
            "4. Keluar\n",
            "Masukkan pilihan (1/2/3/4): 2\n",
            "Masukkan panjang sisi: 18\n",
            "Luas persegi =  324\n",
            "\n",
            "Pilih luas yang ingin dicari:\n",
            "1. Lingkaran\n",
            "2. Persegi\n",
            "3. Segitiga\n",
            "4. Keluar\n",
            "Masukkan pilihan (1/2/3/4): 4\n",
            "Terimakasih telah menggunakan kalkulator\n"
          ]
        }
      ]
    },
    {
      "cell_type": "markdown",
      "source": [
        "WEEKLY EXERCISE 2"
      ],
      "metadata": {
        "id": "a-1ATlxclYc_"
      }
    },
    {
      "cell_type": "code",
      "source": [
        "try:\n",
        "  bilangan = input(\"Masukkan NPM Anda: \")\n",
        "\n",
        "  bilangan_genap = 0\n",
        "  bilangan_ganjil = 0\n",
        "  for jumlah_bilangan in bilangan:\n",
        "    if int(jumlah_bilangan) % 2 == 0:\n",
        "      bilangan_genap += 1\n",
        "    else:\n",
        "      bilangan_ganjil += 1\n",
        "\n",
        "  print(\"Jumlah bilangan genap: \", bilangan_genap)\n",
        "  print(\"Jumlah bilangan ganjil: \", bilangan_ganjil)\n",
        "except:\n",
        "  print(\"Masukkan angka NPM\")"
      ],
      "metadata": {
        "colab": {
          "base_uri": "https://localhost:8080/"
        },
        "id": "kcTnGEwcRie5",
        "outputId": "9cec02c5-5ed0-4e59-c6f9-c19b855ad407"
      },
      "execution_count": 4,
      "outputs": [
        {
          "output_type": "stream",
          "name": "stdout",
          "text": [
            "Masukkan NPM Anda: 2440506079\n",
            "Jumlah bilangan genap:  7\n",
            "Jumlah bilangan ganjil:  3\n"
          ]
        }
      ]
    }
  ]
}