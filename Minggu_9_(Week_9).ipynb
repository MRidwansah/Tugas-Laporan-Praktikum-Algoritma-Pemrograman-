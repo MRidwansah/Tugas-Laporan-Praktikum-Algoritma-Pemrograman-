{
  "nbformat": 4,
  "nbformat_minor": 0,
  "metadata": {
    "colab": {
      "provenance": [],
      "authorship_tag": "ABX9TyNHbBNWqarRAfOUa+fZiCSs"
    },
    "kernelspec": {
      "name": "python3",
      "display_name": "Python 3"
    },
    "language_info": {
      "name": "python"
    }
  },
  "cells": [
    {
      "cell_type": "markdown",
      "source": [
        "Weekly Exercise 2"
      ],
      "metadata": {
        "id": "tPlPRrVVryeG"
      }
    },
    {
      "cell_type": "code",
      "source": [
        "Mahasiswa = {\n",
        "        \"Nama\"          : \"Muhamad Ridwansah\",\n",
        "        \"Kelas\"         : \"02\",\n",
        "        \"Tanggal Lahir\" : \"28 Mei 2005\",\n",
        "        \"No. HP\"        : \"081216479749\",\n",
        "        \"Alamat\"        : \"Jalan Tidar Sari Rt 02 Rw 10 Kota Magelang\",\n",
        "        \"Hobi\"          : {\n",
        "            \"Hobi 1\" : \"Menonton film\",\n",
        "            \"Hobi 2\" : \"Bermain Game\",\n",
        "            \"Hobi 3\" : \"Memancing\",\n",
        "        }\n",
        "}\n",
        "\n",
        "for key, value in Mahasiswa.items():\n",
        "  if key == \"Hobi\":\n",
        "    print(f\"{key}:\")\n",
        "    for hobi_key, hobi_value in value.items():\n",
        "      print(f\"  - {hobi_value}\")\n",
        "  else:\n",
        "    print(key,\":\",value)"
      ],
      "metadata": {
        "colab": {
          "base_uri": "https://localhost:8080/"
        },
        "id": "vIT5aIsF2Zjx",
        "outputId": "4f89276b-63eb-40bd-edcf-d09c774355b2"
      },
      "execution_count": 2,
      "outputs": [
        {
          "output_type": "stream",
          "name": "stdout",
          "text": [
            "Nama : Muhamad Ridwansah\n",
            "Kelas : 02\n",
            "Tanggal Lahir : 28 Mei 2005\n",
            "No. HP : 081216479749\n",
            "Alamat : Jalan Tidar Sari Rt 02 Rw 10 Kota Magelang\n",
            "Hobi:\n",
            "  - Menonton film\n",
            "  - Bermain Game\n",
            "  - Memancing\n"
          ]
        }
      ]
    }
  ]
}