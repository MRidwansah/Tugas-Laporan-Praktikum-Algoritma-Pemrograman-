{
  "nbformat": 4,
  "nbformat_minor": 0,
  "metadata": {
    "colab": {
      "provenance": [],
      "authorship_tag": "ABX9TyNtpvbM7UZufPj4eLHJwgOX"
    },
    "kernelspec": {
      "name": "python3",
      "display_name": "Python 3"
    },
    "language_info": {
      "name": "python"
    }
  },
  "cells": [
    {
      "cell_type": "code",
      "execution_count": null,
      "metadata": {
        "colab": {
          "base_uri": "https://localhost:8080/"
        },
        "id": "wqwGZWjsIGTF",
        "outputId": "3c2f2595-7e08-42b1-a3e4-72b10b6bb42c"
      },
      "outputs": [
        {
          "output_type": "stream",
          "name": "stdout",
          "text": [
            "Masukkan NPM:2440506079\n",
            "Jumlah angka genap: 7\n",
            "Jumlah angka ganjil: 3\n"
          ]
        }
      ],
      "source": [
        "NPM = input(\"Masukkan NPM:\")\n",
        "stringnpm = str(NPM)\n",
        "bilangan_str = str(stringnpm)\n",
        "\n",
        "jumlah_genap = 0\n",
        "jumlah_ganjil = 0\n",
        "\n",
        "for digit in bilangan_str:\n",
        "    angka = int(digit)\n",
        "    if angka % 2 == 0:\n",
        "        jumlah_genap += 1\n",
        "    else:\n",
        "        jumlah_ganjil += 1\n",
        "\n",
        "print(f\"Jumlah angka genap: {jumlah_genap}\")\n",
        "print(f\"Jumlah angka ganjil: {jumlah_ganjil}\")\n",
        "\n"
      ]
    }
  ]
}