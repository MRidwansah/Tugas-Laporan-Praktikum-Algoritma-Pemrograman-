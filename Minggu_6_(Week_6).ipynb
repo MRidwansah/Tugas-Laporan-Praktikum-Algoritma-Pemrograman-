{
  "nbformat": 4,
  "nbformat_minor": 0,
  "metadata": {
    "colab": {
      "provenance": [],
      "authorship_tag": "ABX9TyM4v3/GKMr0tXMlLUNxwUuO"
    },
    "kernelspec": {
      "name": "python3",
      "display_name": "Python 3"
    },
    "language_info": {
      "name": "python"
    }
  },
  "cells": [
    {
      "cell_type": "markdown",
      "source": [
        "Weekly Exercise 1"
      ],
      "metadata": {
        "id": "PA7DQr6XPM30"
      }
    },
    {
      "cell_type": "code",
      "source": [
        "user = int(input(\"Masukkan angka: \"))\n",
        "\n",
        "for i in range(user):\n",
        "    print(\" \" * (user-i-1), end=\"\")\n",
        "    for j in range(i+1):\n",
        "     print(\"*\", end=\"\")\n",
        "     if j != i:\n",
        "        print(\" \", end=\"\")\n",
        "    print()"
      ],
      "metadata": {
        "colab": {
          "base_uri": "https://localhost:8080/"
        },
        "id": "JoFfVL8PPRKj",
        "outputId": "a337870d-47a6-429d-bb79-756153f35077"
      },
      "execution_count": null,
      "outputs": [
        {
          "output_type": "stream",
          "name": "stdout",
          "text": [
            "Masukkan angka: 6\n",
            "     *\n",
            "    * *\n",
            "   * * *\n",
            "  * * * *\n",
            " * * * * *\n",
            "* * * * * *\n"
          ]
        }
      ]
    },
    {
      "cell_type": "markdown",
      "source": [
        "Weekly Exercise 2"
      ],
      "metadata": {
        "id": "rmGlrlZ4Qo45"
      }
    },
    {
      "cell_type": "code",
      "source": [
        "user = int(input(\"Masukkan angka: \"))\n",
        "\n",
        "for i in range(user):\n",
        "    print(\" \" * (user-i-1), end=\"\")\n",
        "    pascal = 1\n",
        "    for j in range(i+1):\n",
        "     print(pascal, end=\"\")\n",
        "     pascal = pascal * (i-j) // (j+1)\n",
        "     if j != i:\n",
        "        print(\" \", end=\"\")\n",
        "    print()"
      ],
      "metadata": {
        "colab": {
          "base_uri": "https://localhost:8080/"
        },
        "id": "FwlS8MN9QsXY",
        "outputId": "9efde4dc-0fd5-4d18-d456-f2eb44855953"
      },
      "execution_count": null,
      "outputs": [
        {
          "output_type": "stream",
          "name": "stdout",
          "text": [
            "Masukkan angka: 5\n",
            "    1\n",
            "   1 1\n",
            "  1 2 1\n",
            " 1 3 3 1\n",
            "1 4 6 4 1\n"
          ]
        }
      ]
    },
    {
      "cell_type": "markdown",
      "source": [
        "Weekly Exercise 3"
      ],
      "metadata": {
        "id": "u792haDZUD_B"
      }
    },
    {
      "cell_type": "code",
      "source": [
        "user = int(input(\"Masukkan angka: \"))\n",
        "\n",
        "for i in range(user):\n",
        "    print(\" \" * (user-i-1), end=\"\")\n",
        "    pascal = 1\n",
        "    jumlah = 0\n",
        "    for j in range(i+1):\n",
        "     print(pascal, end=\"\")\n",
        "     jumlah += pascal\n",
        "     pascal = pascal * (i-j) // (j+1)\n",
        "     if j != i:\n",
        "        print(\" \", end=\"\")\n",
        "    print(f\" jumlah: {jumlah}\")"
      ],
      "metadata": {
        "colab": {
          "base_uri": "https://localhost:8080/"
        },
        "id": "V9WXfgc1UG2A",
        "outputId": "66f7281f-0264-4423-8e1b-ae65b64594f7"
      },
      "execution_count": null,
      "outputs": [
        {
          "output_type": "stream",
          "name": "stdout",
          "text": [
            "Masukkan angka: 5\n",
            "    1 jumlah: 1\n",
            "   1 1 jumlah: 2\n",
            "  1 2 1 jumlah: 4\n",
            " 1 3 3 1 jumlah: 8\n",
            "1 4 6 4 1 jumlah: 16\n"
          ]
        }
      ]
    }
  ]
}