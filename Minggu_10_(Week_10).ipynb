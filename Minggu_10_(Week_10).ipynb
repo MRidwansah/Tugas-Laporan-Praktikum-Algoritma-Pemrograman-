{
  "nbformat": 4,
  "nbformat_minor": 0,
  "metadata": {
    "colab": {
      "provenance": [],
      "authorship_tag": "ABX9TyPm3RPRQOzB5WGZhNz1sepi"
    },
    "kernelspec": {
      "name": "python3",
      "display_name": "Python 3"
    },
    "language_info": {
      "name": "python"
    }
  },
  "cells": [
    {
      "cell_type": "markdown",
      "source": [
        "Weekly Exercise 1"
      ],
      "metadata": {
        "id": "EeIV-aDNY1Ll"
      }
    },
    {
      "cell_type": "code",
      "source": [
        "n = int(input('Masukkan bilangan: '))\n",
        "\n",
        "def factorial(x):\n",
        "  if x == 1:\n",
        "     return 1\n",
        "  else:\n",
        "     return (x * factorial(x-1))\n",
        "\n",
        "result = factorial(n)\n",
        "print(f'{n}! = {result}')"
      ],
      "metadata": {
        "colab": {
          "base_uri": "https://localhost:8080/"
        },
        "id": "vfBueEWSFRZK",
        "outputId": "18fc98c8-c069-48a9-dd58-6485c1cc050b"
      },
      "execution_count": 4,
      "outputs": [
        {
          "output_type": "stream",
          "name": "stdout",
          "text": [
            "Masukkan bilangan: 5\n",
            "5! = 120\n"
          ]
        }
      ]
    },
    {
      "cell_type": "markdown",
      "source": [
        "Weekly Exercise 2"
      ],
      "metadata": {
        "id": "6N_8HKa7blPE"
      }
    },
    {
      "cell_type": "code",
      "source": [
        "import math\n",
        "\n",
        "def luas_lingkaran(r):\n",
        "  \"\"\"Menghitung luas lingkaran.\"\"\"\n",
        "  return math.pi *r**2\n",
        "\n",
        "def luas_persegi(s):\n",
        "  \"\"\"Menghitung luas persegi.\"\"\"\n",
        "  return s**2\n",
        "\n",
        "def luas_segitiga(a, t):\n",
        "  \"\"\"Menghitung luas segitiga.\"\"\"\n",
        "  return 0.5 * a * t\n",
        "\n",
        "while True:\n",
        "  print(\"\\nPilih perhitungan:\")\n",
        "  print(\"1. Luas Lingkaran\")\n",
        "  print(\"2. Luas Persegi\")\n",
        "  print(\"3. Luas Segitiga\")\n",
        "  print(\"4. Selesai\")\n",
        "\n",
        "  pilihan = input(\"Pilih metode perhitungan (1/2/3/4): \")\n",
        "\n",
        "  if pilihan == '1':\n",
        "    r = float(input(\"Masukkan jari-jari lingkaran: \"))\n",
        "    luas = luas_lingkaran(r)\n",
        "    print(f\"Luas lingkaran: {luas}\")\n",
        "  elif pilihan == '2':\n",
        "    s = float(input(\"Masukkan panjang sisi persegi: \"))\n",
        "    luas = luas_persegi(s)\n",
        "    print(f\"Luas persegi: {luas}\")\n",
        "  elif pilihan == '3':\n",
        "    a = float(input(\"Masukkan panjang alas segitiga: \"))\n",
        "    t = float(input(\"Masukkan tinggi segitiga: \"))\n",
        "    luas = luas_segitiga(a, t)\n",
        "    print(f\"Luas segitiga: {luas}\")\n",
        "  elif pilihan == '4':\n",
        "    print(\"Program selesai.\")\n",
        "    break\n",
        "  else:\n",
        "    print(\"Pilihan tidak valid. Silakan coba lagi.\")\n",
        ""
      ],
      "metadata": {
        "colab": {
          "base_uri": "https://localhost:8080/"
        },
        "id": "D_9mOCBGOxM5",
        "outputId": "8520dd9f-5a61-4efc-b0c9-a721470133a3"
      },
      "execution_count": 10,
      "outputs": [
        {
          "output_type": "stream",
          "name": "stdout",
          "text": [
            "\n",
            "Pilih perhitungan:\n",
            "1. Luas Lingkaran\n",
            "2. Luas Persegi\n",
            "3. Luas Segitiga\n",
            "4. Selesai\n",
            "Pilih metode perhitungan (1/2/3/4): 3\n",
            "Masukkan panjang alas segitiga: 5\n",
            "Masukkan tinggi segitiga: 10\n",
            "Luas segitiga: 25.0\n",
            "\n",
            "Pilih perhitungan:\n",
            "1. Luas Lingkaran\n",
            "2. Luas Persegi\n",
            "3. Luas Segitiga\n",
            "4. Selesai\n",
            "Pilih metode perhitungan (1/2/3/4): 4\n",
            "Program selesai.\n"
          ]
        }
      ]
    }
  ]
}